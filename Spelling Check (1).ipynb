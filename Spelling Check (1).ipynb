{
 "cells": [
  {
   "cell_type": "code",
   "execution_count": 2,
   "metadata": {},
   "outputs": [],
   "source": [
    "import numpy as np # linear algebra\n",
    "import pandas as pd # data processing, CSV file I/O (e.g. pd.read_csv)\n",
    "from subprocess import check_output\n",
    "#print(check_output([\"ls\", \"../input\"]).decode(\"utf8\"))\n",
    "\n",
    "\"\"\"\n",
    "Importation des librairies\n",
    "\"\"\"\n",
    "import re\n",
    "import string\n",
    "import numpy as np\n",
    "import nltk\n",
    "from collections import Counter\n",
    "from nltk import tokenize "
   ]
  },
  {
   "cell_type": "code",
   "execution_count": 3,
   "metadata": {},
   "outputs": [
    {
     "name": "stdout",
     "output_type": "stream",
     "text": [
      "ThIs's   ã sent tokenize test  .  this's sent two. is this sent three? sent 4 is cool! Now it's your turn.\n"
     ]
    }
   ],
   "source": [
    "text1 = \"ThIs's   ã sent tokenize test  .  this's sent two. is this sent three? sent 4 is cool! Now it's your turn.\"\n",
    "print(text1)"
   ]
  },
  {
   "cell_type": "code",
   "execution_count": 4,
   "metadata": {},
   "outputs": [
    {
     "name": "stdout",
     "output_type": "stream",
     "text": [
      "With a naive split \n",
      " [\"ThIs's\", '', '', 'ã', 'sent', 'tokenize', 'test', '', '.', '', \"this's\", 'sent', 'two.', 'is', 'this', 'sent', 'three?', 'sent', '4', 'is', 'cool!', 'Now', \"it's\", 'your', 'turn.']\n",
      "\n",
      "Tokenizing text into words With NLTK \n",
      " ['ThIs', \"'s\", 'ã', 'sent', 'tokenize', 'test', '.', 'this', \"'s\", 'sent', 'two', '.', 'is', 'this', 'sent', 'three', '?', 'sent', '4', 'is', 'cool', '!', 'Now', 'it', \"'s\", 'your', 'turn', '.']\n",
      "\n",
      "Equivalent method with TreebankWordTokenizer \n",
      " ['ThIs', \"'s\", 'ã', 'sent', 'tokenize', 'test', '.', 'this', \"'s\", 'sent', 'two.', 'is', 'this', 'sent', 'three', '?', 'sent', '4', 'is', 'cool', '!', 'Now', 'it', \"'s\", 'your', 'turn', '.']\n",
      "\n",
      "Equivalent method with WordPunctTokenizer \n",
      " ['ThIs', \"'\", 's', 'ã', 'sent', 'tokenize', 'test', '.', 'this', \"'\", 's', 'sent', 'two', '.', 'is', 'this', 'sent', 'three', '?', 'sent', '4', 'is', 'cool', '!', 'Now', 'it', \"'\", 's', 'your', 'turn', '.']\n"
     ]
    }
   ],
   "source": [
    "\"\"\" \n",
    "Naive Split\n",
    "\"\"\"\n",
    "print(\"With a naive split \\n\", text1.split(\" \"))\n",
    "\n",
    "\"\"\"\n",
    "Tokenizing text into words\n",
    "\"\"\"\n",
    "import nltk\n",
    "tokens = nltk.word_tokenize(text1)\n",
    "print(\"\\nTokenizing text into words With NLTK \\n\", tokens)\n",
    "\n",
    "\"\"\"\n",
    "Equivalent method with TreebankWordTokenizer\n",
    "\"\"\"\n",
    "from nltk.tokenize import TreebankWordTokenizer\n",
    "tokenizer = TreebankWordTokenizer()\n",
    "print(\"\\nEquivalent method with TreebankWordTokenizer \\n\", tokenizer.tokenize(text1))\n",
    "\n",
    "\n",
    "\"\"\"\n",
    "Equivalent method with WordPunctTokenizer  \n",
    "\"\"\"\n",
    "from nltk.tokenize import WordPunctTokenizer \n",
    "tokenizer = WordPunctTokenizer()\n",
    "print(\"\\nEquivalent method with WordPunctTokenizer \\n\", tokenizer.tokenize(text1))"
   ]
  },
  {
   "cell_type": "code",
   "execution_count": 5,
   "metadata": {},
   "outputs": [],
   "source": [
    "def tokenize_word_text(text): \n",
    "    tokens = nltk.word_tokenize(text) \n",
    "    tokens = [token.strip() for token in tokens] \n",
    "    return tokens \n",
    "# Launching example:\n",
    "# tokenize_word_text(text1)"
   ]
  },
  {
   "cell_type": "code",
   "execution_count": 6,
   "metadata": {},
   "outputs": [
    {
     "name": "stdout",
     "output_type": "stream",
     "text": [
      "Sentence tokenize in NLTK With sent_tokenize \n",
      " [\"ThIs's   ã sent tokenize test  .\", \"this's sent two.\", 'is this sent three?', 'sent 4 is cool!', \"Now it's your turn.\"]\n",
      "[\"ThIs's   ã sent tokenize test  .\", \"this's sent two.\", 'is this sent three?', 'sent 4 is cool!', \"Now it's your turn.\"]\n",
      "\n",
      "Sentence tokenize with PunktSentenceTokenizer \n",
      "  None\n"
     ]
    }
   ],
   "source": [
    "\"\"\"\n",
    "Sentence tokenize in NLTK with sent_tokenize \n",
    "The sent_tokenize function uses an instance of NLTK known as PunktSentenceTokenizer\n",
    "This instance of NLTK has already been trained to perform tokenization on different European languages on the basis of letters or punctuation that mark the beginning and end of sentences\n",
    "\"\"\"\n",
    "from nltk.tokenize import sent_tokenize\n",
    "print(\"Sentence tokenize in NLTK With sent_tokenize \\n\", sent_tokenize(text1))\n",
    "\n",
    "\"\"\"\n",
    "Autres manières \n",
    "\"\"\"\n",
    "## using PunktSentenceTokenizer for sentence tokenization \n",
    "punkt_st = nltk.tokenize.PunktSentenceTokenizer() \n",
    "sample_sentences = punkt_st.tokenize(text1) \n",
    "print(\"\\nSentence tokenize with PunktSentenceTokenizer \\n \", print(sample_sentences) )"
   ]
  },
  {
   "cell_type": "code",
   "execution_count": 7,
   "metadata": {},
   "outputs": [
    {
     "name": "stdout",
     "output_type": "stream",
     "text": [
      "\n",
      " ['Die Orgellandschaft Südniedersachsen umfasst das Gebiet der Landkreise Goslar, Göttingen, Hameln-Pyrmont, Hildesheim, Holzminden, Northeim und Osterode am Harz sowie die Stadt Salzgitter.', 'Über 70 historische Orgeln vom 17. bis 19. Jahrhundert sind in der südniedersächsischen Orgellandschaft vollständig oder in Teilen erhalten.']\n",
      "\n",
      " ['Die Orgellandschaft Südniedersachsen umfasst das Gebiet der Landkreise Goslar, Göttingen, Hameln-Pyrmont, Hildesheim, Holzminden, Northeim und Osterode am Harz sowie die Stadt Salzgitter.', 'Über 70 historische Orgeln vom 17. bis 19.', 'Jahrhundert sind in der südniedersächsischen Orgellandschaft vollständig oder in Teilen erhalten.']\n",
      "English token  [\"ThIs's   ã sent tokenize test  .\", \"this's sent two.\", 'is this sent three?', 'sent 4 is cool!', \"Now it's your turn.\"]\n",
      "\n",
      "French token  [\"Il fait beau aujourd'hui.\", 'Vas-tu sortir ?', \"N'y a-t-il pas du pain ?\"]\n"
     ]
    }
   ],
   "source": [
    "\"\"\" \n",
    "Method 1\n",
    "\"\"\"\n",
    "german_text = u\"Die Orgellandschaft Südniedersachsen umfasst das Gebiet der Landkreise Goslar, Göttingen, Hameln-Pyrmont, Hildesheim, Holzminden, Northeim und Osterode am Harz sowie die Stadt Salzgitter. Über 70 historische Orgeln vom 17. bis 19. Jahrhundert sind in der südniedersächsischen Orgellandschaft vollständig oder in Teilen erhalten. \"\n",
    "print(\"\\n\",sent_tokenize(german_text, language='german'))\n",
    "print(\"\\n\",sent_tokenize(german_text, language='polish'))\n",
    "\n",
    "\"\"\" \n",
    "Method 2\n",
    "\"\"\"\n",
    "import nltk.data\n",
    "\n",
    "# English\n",
    "tokenizer = nltk.data.load(\"tokenizers/punkt/english.pickle\")\n",
    "print(\"English token \", tokenizer.tokenize(text1))\n",
    "\n",
    "# French\n",
    "french_tokenizer = nltk.data.load(\"tokenizers/punkt/french.pickle\")\n",
    "print(\"\\nFrench token \", french_tokenizer.tokenize(\"Il fait beau aujourd'hui. Vas-tu sortir ? N'y a-t-il pas du pain ?\"))"
   ]
  },
  {
   "cell_type": "markdown",
   "metadata": {},
   "source": [
    "# TOKENIZATION"
   ]
  },
  {
   "cell_type": "code",
   "execution_count": 8,
   "metadata": {},
   "outputs": [
    {
     "name": "stdout",
     "output_type": "stream",
     "text": [
      "['ThIs', \"'s\", 'ã', 'sent', 'tokenize', 'test', '.', 'this', \"'s\", 'sent', 'two', '.', 'is', 'this', 'sent', 'three', '?', 'sent', '4', 'is', 'cool', '!', 'Now', 'it', \"'s\", 'your', 'turn', '.']\n"
     ]
    }
   ],
   "source": [
    "tokens = tokenize_word_text(text1)\n",
    "print(tokens)"
   ]
  },
  {
   "cell_type": "code",
   "execution_count": 9,
   "metadata": {},
   "outputs": [
    {
     "name": "stdout",
     "output_type": "stream",
     "text": [
      "['this', \"'s\", 'ã', 'sent', 'tokenize', 'test', '.', 'this', \"'s\", 'sent', 'two', '.', 'is', 'this', 'sent', 'three', '?', 'sent', '4', 'is', 'cool', '!', 'now', 'it', \"'s\", 'your', 'turn', '.']\n"
     ]
    }
   ],
   "source": [
    "\"\"\"\n",
    "Converting all letters to lower or upper case (common : lower case)\n",
    "\"\"\"\n",
    "def convert_letters(tokens, style = \"lower\"):\n",
    "    if (style == \"lower\"):\n",
    "        tokens = [token.lower() for token in tokens]\n",
    "    else :\n",
    "        tokens = [token.upper() for token in tokens]\n",
    "    return(tokens)\n",
    "tokens = convert_letters(tokens)\n",
    "print(tokens)"
   ]
  },
  {
   "cell_type": "code",
   "execution_count": 10,
   "metadata": {},
   "outputs": [
    {
     "name": "stdout",
     "output_type": "stream",
     "text": [
      "['this', \"'s\", 'ã', 'sent', 'tokenize', 'test', '.', 'this', \"'s\", 'sent', 'two', '.', 'is', 'this', 'sent', 'three', '?', 'sent', '4', 'is', 'cool', '!', 'now', 'it', \"'s\", 'your', 'turn', '.']\n"
     ]
    }
   ],
   "source": [
    "\"\"\"\n",
    "Remove blancs on words\n",
    "\"\"\"\n",
    "def remove_blanc(tokens):\n",
    "    tokens = [token.strip() for token in tokens]\n",
    "    return(tokens)\n",
    "tokens = remove_blanc(tokens)\n",
    "print(tokens)"
   ]
  },
  {
   "cell_type": "code",
   "execution_count": 11,
   "metadata": {},
   "outputs": [
    {
     "data": {
      "text/plain": [
       "'this s ã sent tokenize test this s sent two is this sent three sent 4 is cool now it s your turn'"
      ]
     },
     "execution_count": 11,
     "metadata": {},
     "output_type": "execute_result"
    }
   ],
   "source": [
    "\"\"\"\n",
    "On sentence  \n",
    "\"\"\"\n",
    "def remove_before_token(sentence, keep_apostrophe = False):\n",
    "    sentence = sentence.strip()\n",
    "    if keep_apostrophe:\n",
    "        PATTERN = r'[?|$|&|*|%|@|(|)|~]'\n",
    "        filtered_sentence = re.sub(PATTERN, r' ', sentence)\n",
    "    else :\n",
    "        PATTERN = r'[^a-zA-Z0-9]'\n",
    "        filtered_sentence = re.sub(PATTERN, r' ', sentence)\n",
    "    return(filtered_sentence)\n",
    "remove_before_token(text1)\n",
    "\n",
    "\"\"\"\n",
    "After tokenization  \n",
    "\"\"\"\n",
    "def remove_after_token(tokens): \n",
    "    pattern = re.compile('[{}]'.format(re.escape(string.punctuation))) \n",
    "    filtered_tokens = filter(None, [pattern.sub('', token) for token in tokens]) \n",
    "    filtered_text = ' '.join(filtered_tokens) \n",
    "    return filtered_text \n",
    "remove_after_token(tokens)"
   ]
  },
  {
   "cell_type": "code",
   "execution_count": 12,
   "metadata": {},
   "outputs": [],
   "source": [
    "\"\"\"\n",
    "Expanding contraction \n",
    "\"\"\"\n",
    "CONTRACTION_MAP = {\"ain't\": \"is not\", \"aren't\": \"are not\",\"can't\": \"cannot\", \n",
    "                   \"can't've\": \"cannot have\", \"'cause\": \"because\", \"could've\": \"could have\", \n",
    "                   \"couldn't\": \"could not\", \"couldn't've\": \"could not have\",\"didn't\": \"did not\", \n",
    "                   \"doesn't\": \"does not\", \"don't\": \"do not\", \"hadn't\": \"had not\", \n",
    "                   \"hadn't've\": \"had not have\", \"hasn't\": \"has not\", \"haven't\": \"have not\", \n",
    "                   \"he'd\": \"he would\", \"he'd've\": \"he would have\", \"he'll\": \"he will\", \n",
    "                   \"he'll've\": \"he he will have\", \"he's\": \"he is\", \"how'd\": \"how did\", \n",
    "                   \"how'd'y\": \"how do you\", \"how'll\": \"how will\", \"how's\": \"how is\", \n",
    "                   \"I'd\": \"I would\", \"I'd've\": \"I would have\", \"I'll\": \"I will\", \n",
    "                   \"I'll've\": \"I will have\",\"I'm\": \"I am\", \"I've\": \"I have\", \n",
    "                   \"i'd\": \"i would\", \"i'd've\": \"i would have\", \"i'll\": \"i will\", \n",
    "                   \"i'll've\": \"i will have\",\"i'm\": \"i am\", \"i've\": \"i have\", \n",
    "                   \"isn't\": \"is not\", \"it'd\": \"it would\", \"it'd've\": \"it would have\", \n",
    "                   \"it'll\": \"it will\", \"it'll've\": \"it will have\",\"it's\": \"it is\", \n",
    "                   \"let's\": \"let us\", \"ma'am\": \"madam\", \"mayn't\": \"may not\", \n",
    "                   \"might've\": \"might have\",\"mightn't\": \"might not\",\"mightn't've\": \"might not have\", \n",
    "                   \"must've\": \"must have\", \"mustn't\": \"must not\", \"mustn't've\": \"must not have\", \n",
    "                   \"needn't\": \"need not\", \"needn't've\": \"need not have\",\"o'clock\": \"of the clock\", \n",
    "                   \"oughtn't\": \"ought not\", \"oughtn't've\": \"ought not have\", \"shan't\": \"shall not\",\n",
    "                   \"sha'n't\": \"shall not\", \"shan't've\": \"shall not have\", \"she'd\": \"she would\", \n",
    "                   \"she'd've\": \"she would have\", \"she'll\": \"she will\", \"she'll've\": \"she will have\", \n",
    "                   \"she's\": \"she is\", \"should've\": \"should have\", \"shouldn't\": \"should not\", \n",
    "                   \"shouldn't've\": \"should not have\", \"so've\": \"so have\",\"so's\": \"so as\", \n",
    "                   \"this's\": \"this is\",\n",
    "                   \"that'd\": \"that would\", \"that'd've\": \"that would have\",\"that's\": \"that is\", \n",
    "                   \"there'd\": \"there would\", \"there'd've\": \"there would have\",\"there's\": \"there is\", \n",
    "                   \"they'd\": \"they would\", \"they'd've\": \"they would have\", \"they'll\": \"they will\", \n",
    "                   \"they'll've\": \"they will have\", \"they're\": \"they are\", \"they've\": \"they have\", \n",
    "                   \"to've\": \"to have\", \"wasn't\": \"was not\", \"we'd\": \"we would\", \n",
    "                   \"we'd've\": \"we would have\", \"we'll\": \"we will\", \"we'll've\": \"we will have\", \n",
    "                   \"we're\": \"we are\", \"we've\": \"we have\", \"weren't\": \"were not\", \n",
    "                   \"what'll\": \"what will\", \"what'll've\": \"what will have\", \"what're\": \"what are\", \n",
    "                   \"what's\": \"what is\", \"what've\": \"what have\", \"when's\": \"when is\", \n",
    "                   \"when've\": \"when have\", \"where'd\": \"where did\", \"where's\": \"where is\", \n",
    "                   \"where've\": \"where have\", \"who'll\": \"who will\", \"who'll've\": \"who will have\", \n",
    "                   \"who's\": \"who is\", \"who've\": \"who have\", \"why's\": \"why is\", \n",
    "                   \"why've\": \"why have\", \"will've\": \"will have\", \"won't\": \"will not\", \n",
    "                   \"won't've\": \"will not have\", \"would've\": \"would have\", \"wouldn't\": \"would not\", \n",
    "                   \"wouldn't've\": \"would not have\", \"y'all\": \"you all\", \"y'all'd\": \"you all would\",\n",
    "                   \"y'all'd've\": \"you all would have\",\"y'all're\": \"you all are\",\"y'all've\": \"you all have\",\n",
    "                   \"you'd\": \"you would\", \"you'd've\": \"you would have\", \"you'll\": \"you will\", \n",
    "                   \"you'll've\": \"you will have\", \"you're\": \"you are\", \"you've\": \"you have\" } "
   ]
  },
  {
   "cell_type": "code",
   "execution_count": 13,
   "metadata": {},
   "outputs": [
    {
     "name": "stdout",
     "output_type": "stream",
     "text": [
      "Text before expanding contraction : \n",
      "  ThIs's   ã sent tokenize test  .  this's sent two. is this sent three? sent 4 is cool! Now it's your turn.\n",
      "\n",
      " Text after expanding contraction : \n",
      "  ['This is   ã sent tokenize test  .', 'this is sent two.', 'is this sent three?', 'sent 4 is cool!', 'Now it is your turn.']\n"
     ]
    }
   ],
   "source": [
    "def expand_contractions(sentence, contraction_mapping): \n",
    "     \n",
    "    contractions_pattern = re.compile('({})'.format('|'.join(contraction_mapping.keys())),  \n",
    "                                      flags=re.IGNORECASE|re.DOTALL) \n",
    "    def expand_match(contraction): \n",
    "        match = contraction.group(0) \n",
    "        first_char = match[0] \n",
    "        expanded_contraction = contraction_mapping.get(match) if contraction_mapping.get(match) else contraction_mapping.get(match.lower())                        \n",
    "        expanded_contraction = first_char+expanded_contraction[1:] \n",
    "        return expanded_contraction \n",
    "         \n",
    "    expanded_sentence = contractions_pattern.sub(expand_match, sentence) \n",
    "    return expanded_sentence \n",
    "     \n",
    "expanded_corpus = [expand_contractions(txt, CONTRACTION_MAP)  \n",
    "                     for txt in sent_tokenize(text1)]     \n",
    "\n",
    "print (\"Text before expanding contraction : \\n \", text1)\n",
    "print (\"\\n Text after expanding contraction : \\n \",expanded_corpus) "
   ]
  },
  {
   "cell_type": "code",
   "execution_count": 15,
   "metadata": {},
   "outputs": [
    {
     "name": "stdout",
     "output_type": "stream",
     "text": [
      "After removing accent markes before tokenize words : \n",
      " ThIs's   a sent tokenize test  .  this's sent two. is this sent three? sent 4 is cool! Now it's your turn.\n",
      "After removing accent markes  ['this', \"'s\", 'a', 'sent', 'tokenize', 'test', '.', 'this', \"'s\", 'sent', 'two', '.', 'is', 'this', 'sent', 'three', '?', 'sent', '4', 'is', 'cool', '!', 'now', 'it', \"'s\", 'your', 'turn', '.']\n"
     ]
    }
   ],
   "source": [
    "\"\"\"\n",
    "Removing accent marks and other diacritics - before tokens words\n",
    "\"\"\"\n",
    "import unidecode\n",
    "def remove_accent_before_tokens(sentences):\n",
    "    res = unidecode.unidecode(sentences)\n",
    "    return(res)\n",
    "tmp = remove_accent_before_tokens(text1)\n",
    "print(\"After removing accent markes before tokenize words : \\n\", tmp)\n",
    "\n",
    "\"\"\"\n",
    "Removing accent marks and other diacritics - After tokens words\n",
    "\"\"\"\n",
    "\n",
    "def remove_accent_after_tokens(tokens):\n",
    "    tokens = [unidecode.unidecode(token) for token in tokens]\n",
    "    return(tokens)\n",
    "tokens = remove_accent_after_tokens(tokens)\n",
    "print(\"After removing accent markes \", tokens)"
   ]
  },
  {
   "cell_type": "code",
   "execution_count": 16,
   "metadata": {},
   "outputs": [
    {
     "name": "stdout",
     "output_type": "stream",
     "text": [
      "StopWords List in English : \n",
      " ['i', 'me', 'my', 'myself', 'we', 'our', 'ours', 'ourselves', 'you', \"you're\", \"you've\", \"you'll\", \"you'd\", 'your', 'yours', 'yourself', 'yourselves', 'he', 'him', 'his', 'himself', 'she', \"she's\", 'her', 'hers', 'herself', 'it', \"it's\", 'its', 'itself', 'they', 'them', 'their', 'theirs', 'themselves', 'what', 'which', 'who', 'whom', 'this', 'that', \"that'll\", 'these', 'those', 'am', 'is', 'are', 'was', 'were', 'be', 'been', 'being', 'have', 'has', 'had', 'having', 'do', 'does', 'did', 'doing', 'a', 'an', 'the', 'and', 'but', 'if', 'or', 'because', 'as', 'until', 'while', 'of', 'at', 'by', 'for', 'with', 'about', 'against', 'between', 'into', 'through', 'during', 'before', 'after', 'above', 'below', 'to', 'from', 'up', 'down', 'in', 'out', 'on', 'off', 'over', 'under', 'again', 'further', 'then', 'once', 'here', 'there', 'when', 'where', 'why', 'how', 'all', 'any', 'both', 'each', 'few', 'more', 'most', 'other', 'some', 'such', 'no', 'nor', 'not', 'only', 'own', 'same', 'so', 'than', 'too', 'very', 's', 't', 'can', 'will', 'just', 'don', \"don't\", 'should', \"should've\", 'now', 'd', 'll', 'm', 'o', 're', 've', 'y', 'ain', 'aren', \"aren't\", 'couldn', \"couldn't\", 'didn', \"didn't\", 'doesn', \"doesn't\", 'hadn', \"hadn't\", 'hasn', \"hasn't\", 'haven', \"haven't\", 'isn', \"isn't\", 'ma', 'mightn', \"mightn't\", 'mustn', \"mustn't\", 'needn', \"needn't\", 'shan', \"shan't\", 'shouldn', \"shouldn't\", 'wasn', \"wasn't\", 'weren', \"weren't\", 'won', \"won't\", 'wouldn', \"wouldn't\"]\n"
     ]
    }
   ],
   "source": [
    "\"\"\"\n",
    "Use a stopwords list\n",
    "\"\"\"\n",
    "stopword_list = nltk.corpus.stopwords.words('english')\n",
    "print(\"StopWords List in English : \\n\", stopword_list)\n",
    "\n",
    "\"\"\" \n",
    "Create your own stopwords list\n",
    "\"\"\"\n",
    "stopwords = ['a', 'about', 'above', 'across', 'after', 'afterwards']\n",
    "stopwords += ['again', 'against', 'all', 'almost', 'alone', 'along']\n",
    "stopwords += ['this', 'is', 'your']\n",
    "\n",
    "\"\"\"\n",
    "Fonction StopWords\n",
    "\"\"\"\n",
    "def removeStopwords_after_tokens(wordlist, stopwords):\n",
    "    return [w for w in wordlist if w not in stopwords]\n",
    "\n",
    "# Example of calling the function : \n",
    "# tokens = nltk.word_tokenize(text1)\n",
    "# removeStopwords_before_tokens(tokens, stopwords)"
   ]
  },
  {
   "cell_type": "code",
   "execution_count": 17,
   "metadata": {},
   "outputs": [
    {
     "data": {
      "text/plain": [
       "list"
      ]
     },
     "execution_count": 17,
     "metadata": {},
     "output_type": "execute_result"
    }
   ],
   "source": [
    "tokens = nltk.word_tokenize(text1)\n",
    "type(tokens)"
   ]
  },
  {
   "cell_type": "code",
   "execution_count": 18,
   "metadata": {},
   "outputs": [],
   "source": [
    "def removeStopwords_before_tokens(text, stopwords):\n",
    "    tokens = nltk.word_tokenize(text)\n",
    "    return [w for w in tokens if w not in stopwords]\n",
    "\n",
    "# Example of calling the function : \n",
    "# removeStopwords_before_tokens(tokens, stopwords)"
   ]
  },
  {
   "cell_type": "code",
   "execution_count": 19,
   "metadata": {},
   "outputs": [
    {
     "data": {
      "text/plain": [
       "True"
      ]
     },
     "execution_count": 19,
     "metadata": {},
     "output_type": "execute_result"
    }
   ],
   "source": [
    "\"\"\"\n",
    "Method 1 : Using the brown corpus in NLTK and \"in\" operator\n",
    "\"\"\"\n",
    "from nltk.corpus import brown\n",
    "word_list = brown.words()\n",
    "len(word_list)\n",
    "\n",
    "word_set = set(word_list)\n",
    "\"looked\" in word_set"
   ]
  },
  {
   "cell_type": "code",
   "execution_count": 21,
   "metadata": {},
   "outputs": [
    {
     "name": "stdout",
     "output_type": "stream",
     "text": [
      "spelling\n",
      "final\n",
      "mistakes\n"
     ]
    }
   ],
   "source": [
    "\"\"\"\n",
    "Method 2 : Peter Norvig sur un seul mot\n",
    "\"\"\"\n",
    "\n",
    "import re\n",
    "import nltk\n",
    "from collections import Counter\n",
    "\n",
    "def words(text): return re.findall(r'\\w+', text.lower())\n",
    "WORDS = Counter(words(open(r\"C:\\Users\\Pratyush\\Pictures\\Internship\\archive (2)\\big.txt\").read()))\n",
    "\n",
    "def P(word, N=sum(WORDS.values())): \n",
    "    \"Probability of `word`.\"\n",
    "    return WORDS[word] / N\n",
    "\n",
    "def correction(word): \n",
    "    \"Most probable spelling correction for word.\"\n",
    "    return max(candidates(word), key=P)\n",
    "\n",
    "def candidates(word): \n",
    "    \"Generate possible spelling corrections for word.\"\n",
    "    return (known([word]) or known(edits1(word)) or known(edits2(word)) or [word])\n",
    "\n",
    "def known(words): \n",
    "    \"The subset of `words` that appear in the dictionary of WORDS.\"\n",
    "    return set(w for w in words if w in WORDS)\n",
    "\n",
    "def edits1(word):\n",
    "    \"All edits that are one edit away from `word`.\"\n",
    "    letters    = 'abcdefghijklmnopqrstuvwxyz'\n",
    "    splits     = [(word[:i], word[i:])    for i in range(len(word) + 1)]\n",
    "    deletes    = [L + R[1:]               for L, R in splits if R]\n",
    "    transposes = [L + R[1] + R[0] + R[2:] for L, R in splits if len(R)>1]\n",
    "    replaces   = [L + c + R[1:]           for L, R in splits if R for c in letters]\n",
    "    inserts    = [L + c + R               for L, R in splits for c in letters]\n",
    "    return set(deletes + transposes + replaces + inserts)\n",
    "\n",
    "def edits2(word): \n",
    "    \"All edits that are two edits away from `word`.\"\n",
    "    return (e2 for e1 in edits1(word) for e2 in edits1(e1))\n",
    "    \n",
    "\"\"\"\n",
    "Exemple avec des mots au hasard \n",
    "\"\"\"\n",
    "print(correction('speling'))\n",
    "print(correction('fial'))\n",
    "print(correction(\"misstkaes\"))"
   ]
  },
  {
   "cell_type": "code",
   "execution_count": 22,
   "metadata": {},
   "outputs": [
    {
     "name": "stdout",
     "output_type": "stream",
     "text": [
      "his is a sent tokenize test with mistakes in spelling a this is sent two a is this sent three a sent 4 is cool a now it is your turn a\n"
     ]
    }
   ],
   "source": [
    "\"\"\"\n",
    "Exemple avec notre text initial \n",
    "\"\"\"\n",
    "text1 = \"ThIs's   ã sent tokenize test  wiith miststakes in speling.  this's sent two. is this sent three? sent 4 is cool! Now it's your turn.\"\n",
    "\n",
    "def correct_word_in_sentence(text):\n",
    "    tokens = nltk.word_tokenize(text)\n",
    "    r = [correction(token) for token in tokens]\n",
    "    return (r)\n",
    "tmp = ' '.join(correct_word_in_sentence(text1))\n",
    "type(tmp)\n",
    "print(tmp)"
   ]
  },
  {
   "cell_type": "code",
   "execution_count": 23,
   "metadata": {},
   "outputs": [
    {
     "name": "stdout",
     "output_type": "stream",
     "text": [
      "hello sent tokenize test with mistakes in spelling sent two sent three sent 4 cool now it turn\n"
     ]
    }
   ],
   "source": [
    "\"\"\"\n",
    "Driver\n",
    "\"\"\"\n",
    "\n",
    "text1 = \"Heloo ! ThIs's  ã sent tokenize test  wiith misstkaes in speling.  this's sent two. is this sent three? sent 4 is cool! Now it's your turn.\"\n",
    "\n",
    "def preprocessing(content):\n",
    "    sentences = tokenize.sent_tokenize(content)\n",
    "    cleaned_sentences = []\n",
    "    for s in sentences :\n",
    "        # 1- Lower case \n",
    "        s = s.lower()\n",
    "        \n",
    "        # 2- Supprimer les blancs :\n",
    "        s = s.strip()  \n",
    "        \"\"\"\n",
    "        A revoir\n",
    "        \"\"\"\n",
    "        # 3- Unicode - supprimer les accents\n",
    "        s = remove_accent_before_tokens(s)\n",
    "        \n",
    "        # 4- Expanding contraction\n",
    "        # Remarque : on fait l'expansion en même temps que l'on transforme la list en str\n",
    "        s = ''.join([expand_contractions(txt, CONTRACTION_MAP)\n",
    "                     for txt in sent_tokenize(s)]  )\n",
    "        \n",
    "        # 5- Remove punctuation ?\n",
    "        # A faire après avoir fait l'expanding contraction car sinon supprimer les ' qui symbolise la contraction\n",
    "        s = remove_before_token(s)\n",
    "\n",
    "        # 6- Correcting words\n",
    "        # s = ' '.join(correct_word_in_sentence(s))\n",
    "        s = ' '.join(correct_word_in_sentence(s))\n",
    "        \n",
    "        # 7- Remove StopWords\n",
    "        s = ' '.join(removeStopwords_before_tokens(s, stopwords))\n",
    "        \n",
    "        # 8- Remove Numbers or transform it in char\n",
    "        \"\"\"\n",
    "        TODO\n",
    "        \"\"\"\n",
    "        \n",
    "        # Enregistrement des resultats\n",
    "        cleaned_sentences.append(s)\n",
    "    return(cleaned_sentences) \n",
    "        \n",
    "\n",
    "result = ' '.join(preprocessing(text1))\n",
    "print(result)"
   ]
  },
  {
   "cell_type": "markdown",
   "metadata": {},
   "source": [
    "# LEXICON NORMALISATION"
   ]
  },
  {
   "cell_type": "code",
   "execution_count": 24,
   "metadata": {},
   "outputs": [
    {
     "name": "stdout",
     "output_type": "stream",
     "text": [
      ">>> Exemple with Porter Stemmer\n",
      "python\n",
      "python\n",
      "python\n",
      "python\n",
      "pythonli\n",
      "\n",
      ">>> Exemple with Lancaster Stemmer\n",
      "python\n",
      "python\n",
      "python\n",
      "python\n",
      "python\n",
      "\n",
      ">>> Exemple with Snowball Stemmer\n",
      "python\n",
      "python\n",
      "python\n",
      "python\n",
      "python\n",
      "\n",
      ">>> Exemple with a sentence \n",
      "it\n",
      "is\n",
      "import\n",
      "to\n",
      "by\n",
      "very\n",
      "python\n",
      "whil\n",
      "you\n",
      "ar\n",
      "python\n",
      "with\n",
      "python\n",
      ".\n",
      "Our word before stemming : hello >>> after : hello \n",
      "Our word before stemming : sent >>> after : sent \n",
      "Our word before stemming : tokenize >>> after : tok \n",
      "Our word before stemming : test >>> after : test \n",
      "Our word before stemming : with >>> after : with \n",
      "Our word before stemming : mistakes >>> after : mistak \n",
      "Our word before stemming : in >>> after : in \n",
      "Our word before stemming : spelling >>> after : spel \n",
      "Our word before stemming : sent >>> after : sent \n",
      "Our word before stemming : two >>> after : two \n",
      "Our word before stemming : sent >>> after : sent \n",
      "Our word before stemming : three >>> after : three \n",
      "Our word before stemming : sent >>> after : sent \n",
      "Our word before stemming : 4 >>> after : 4 \n",
      "Our word before stemming : cool >>> after : cool \n",
      "Our word before stemming : now >>> after : now \n",
      "Our word before stemming : it >>> after : it \n",
      "Our word before stemming : turn >>> after : turn \n"
     ]
    }
   ],
   "source": [
    "from nltk.stem import WordNetLemmatizer\n",
    "from nltk.stem import PorterStemmer\n",
    "from nltk.tokenize import sent_tokenize, word_tokenize\n",
    "from nltk.stem import SnowballStemmer\n",
    "from nltk.stem.lancaster import LancasterStemmer\n",
    "    \n",
    "# With Porter Stemmer\n",
    "ps = PorterStemmer()\n",
    "example_words = [\"python\",\"pythoner\",\"pythoning\",\"pythoned\",\"pythonly\"]\n",
    "print (\">>> Exemple with Porter Stemmer\")\n",
    "for w in example_words:\n",
    "    print(ps.stem(w))\n",
    "\n",
    "# With Lancaster Stemmer\n",
    "ls = LancasterStemmer()\n",
    "print (\"\\n>>> Exemple with Lancaster Stemmer\")\n",
    "for w in example_words:\n",
    "    print(ls.stem(w))\n",
    "   \n",
    "# With Snowball Stemmer\n",
    "ss = SnowballStemmer(\"english\")\n",
    "print (\"\\n>>> Exemple with Snowball Stemmer\")\n",
    "for w in example_words:\n",
    "    print(ss.stem(w))\n",
    "    \n",
    "\"\"\"\n",
    "Example with a sentence\n",
    "\"\"\"\n",
    "ls = LancasterStemmer()\n",
    "print (\"\\n>>> Exemple with a sentence \")\n",
    "new_text = \"It is important to by very pythonly while you are pythoning with python.\"\n",
    "words = word_tokenize(new_text) # First, we tokenize\n",
    "for w in words:\n",
    "    print(ls.stem(w))\n",
    "    \n",
    "\"\"\"\n",
    "Final example with our own text\n",
    "\"\"\"\n",
    "ls = LancasterStemmer()\n",
    "words = word_tokenize(result) # First, we tokenize\n",
    "for w in words:\n",
    "    print(\"Our word before stemming : {} >>> after : {} \".format(w,ls.stem(w)))"
   ]
  },
  {
   "cell_type": "code",
   "execution_count": 25,
   "metadata": {},
   "outputs": [
    {
     "name": "stdout",
     "output_type": "stream",
     "text": [
      "\n",
      " >>> Exemple with WordNet Lemmatizer\n",
      "Lemmatisation of python : python \n",
      "Lemmatisation of pythoner : pythoner \n",
      "Lemmatisation of pythoning : pythoning \n",
      "Lemmatisation of pythoned : pythoned \n",
      "Lemmatisation of pythonly : pythonly \n",
      "\n",
      ">>> Exemple with a sentence \n",
      "Lemmatisation of It : It \n",
      "Lemmatisation of is : is \n",
      "Lemmatisation of important : important \n",
      "Lemmatisation of to : to \n",
      "Lemmatisation of by : by \n",
      "Lemmatisation of very : very \n",
      "Lemmatisation of pythonly : pythonly \n",
      "Lemmatisation of while : while \n",
      "Lemmatisation of you : you \n",
      "Lemmatisation of are : are \n",
      "Lemmatisation of pythoning : pythoning \n",
      "Lemmatisation of with : with \n",
      "Lemmatisation of python : python \n",
      "Lemmatisation of . : . \n"
     ]
    }
   ],
   "source": [
    "example_words = [\"python\",\"pythoner\",\"pythoning\",\"pythoned\",\"pythonly\"]\n",
    "from nltk.stem.wordnet import WordNetLemmatizer \n",
    "lem = WordNetLemmatizer()\n",
    "print (\"\\n >>> Exemple with WordNet Lemmatizer\")\n",
    "for w in example_words:\n",
    "    print(\"Lemmatisation of {} : {} \".format(w,lem.lemmatize(w)))\n",
    "    \n",
    "\"\"\"\n",
    "Example with a sentence\n",
    "\"\"\"\n",
    "print (\"\\n>>> Exemple with a sentence \")\n",
    "new_text = \"It is important to by very pythonly while you are pythoning with python.\"\n",
    "words = word_tokenize(new_text) # First, we tokenize\n",
    "for w in words:\n",
    "    print(\"Lemmatisation of {} : {} \".format(w,lem.lemmatize(w)))"
   ]
  },
  {
   "cell_type": "code",
   "execution_count": null,
   "metadata": {},
   "outputs": [],
   "source": []
  }
 ],
 "metadata": {
  "kernelspec": {
   "display_name": "Python 3",
   "language": "python",
   "name": "python3"
  },
  "language_info": {
   "codemirror_mode": {
    "name": "ipython",
    "version": 3
   },
   "file_extension": ".py",
   "mimetype": "text/x-python",
   "name": "python",
   "nbconvert_exporter": "python",
   "pygments_lexer": "ipython3",
   "version": "3.7.6"
  }
 },
 "nbformat": 4,
 "nbformat_minor": 4
}
